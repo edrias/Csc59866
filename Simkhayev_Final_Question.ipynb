{
 "cells": [
  {
   "cell_type": "markdown",
   "metadata": {},
   "source": [
    "# Emmanuil Simkhayev Final Questions"
   ]
  },
  {
   "cell_type": "markdown",
   "metadata": {},
   "source": [
    "## Multiple Choice"
   ]
  },
  {
   "cell_type": "markdown",
   "metadata": {},
   "source": [
    "Q1. Which of these is not a part of the EDA process?\n",
    "1. Plotting histograms\n",
    "2. computing means, medians, standard deviation, etc..\n",
    "3. classfying data\n",
    "4. graphing box and whisker plots\n",
    "***\n",
    "Answer (3)"
   ]
  },
  {
   "cell_type": "markdown",
   "metadata": {},
   "source": [
    "Q2. The usual steps for classification are...\n",
    "1. train/test split --> fit(X_train, y_train) --> score(X_test, y_test)\n",
    "2. score(X_test, y_test) --> fit(X_train, y_train) --> train/test split\n",
    "3. train/test split --> fit(X_test, y_test) --> score(X_train, y_train)\n",
    "4. train/test split --> fit(X, y) --> score(X, y)\n",
    "***\n",
    "Answer (1)"
   ]
  },
  {
   "cell_type": "markdown",
   "metadata": {},
   "source": [
    "Q3. Which of these is a motivation for using cross-validation\n",
    "1. To find the split in data that results in the best model performance.\n",
    "2. Model performance may be dependent on the way data is split.\n",
    "3. Improving classification score.\n",
    "4. Identifying outliers in classification scores.\n",
    "***\n",
    "Answer(2)"
   ]
  },
  {
   "cell_type": "markdown",
   "metadata": {},
   "source": [
    "Q4. Intrinsic dimensions tell us\n",
    "1. The dimensionality or shape of our data\n",
    "2. Number of principle components in the data\n",
    "3. Number of features needed to approximate the data\n",
    "4. The optimal number of features to describe a dataset "
   ]
  },
  {
   "cell_type": "markdown",
   "metadata": {},
   "source": [
    "Q4. Which is of these is a correct implementation of a dictionary in Python?\n",
    "1. ```python\n",
    "animal_sounds = {'dog':'woof', 'cat':'meow','cow':'moo'}\n",
    "```\n",
    "\n",
    "2. ```python\n",
    "gender_names = ['John':'boy', 'Emma':'girl', 'Gregory':'boy']\n",
    "```\n",
    "\n",
    "3. ```python\n",
    "countries = ['France','Italy','Russia']\n",
    "```\n",
    "4. ```python\n",
    "food_groups = [('apple','fruit'), ('carrot', 'vegetable'), ('beef', 'meat')]\n",
    "```\n",
    "***\n",
    "Answer(1)"
   ]
  },
  {
   "cell_type": "markdown",
   "metadata": {},
   "source": [
    "Q5. In pandas, iloc is for...\n",
    "1. label based indexing\n",
    "2. value based indexing\n",
    "3. integer based indexing\n",
    "4. string based indexing\n",
    "***\n",
    "Answer(3)"
   ]
  },
  {
   "cell_type": "markdown",
   "metadata": {},
   "source": [
    "Q6. In NLP, tokenization is the process of\n",
    "1. Turning a string or document in smaller chunks\n",
    "2. converting strings into regular expressions\n",
    "3. converting all characters to ascii\n",
    "4. Putting all unique strings into a bag of words.\n",
    "***\n",
    "Answer (1)"
   ]
  },
  {
   "cell_type": "markdown",
   "metadata": {},
   "source": [
    "Q7. After generating a model of your data, you would use a hypothesis test as an assesement of \n",
    "1. how strongly your data is correlated\n",
    "2. how well your model makes predictions for new data\n",
    "3. [insert choice]\n",
    "4. how meaningful the observed data described by the model is\n",
    "***\n",
    "Answer (4)"
   ]
  },
  {
   "cell_type": "markdown",
   "metadata": {},
   "source": [
    "Q8. Which of these scenarios would A/B testing NOT be best in?\n",
    "1. Selecting a subject line for an email\n",
    "2. Determining which of your advertisements resulted in the most website traffic\n",
    "3. Choosing the best design for your website's homepage\n",
    "4. Determining which of your products had the most sales\n",
    "***\n",
    "Answer (4)"
   ]
  },
  {
   "cell_type": "markdown",
   "metadata": {},
   "source": [
    "# True/False"
   ]
  },
  {
   "cell_type": "markdown",
   "metadata": {},
   "source": [
    "Q1. This code:\n",
    "```python\n",
    "import numpy as np\n",
    "ages = np.array([12,15,17,5,21,9])\n",
    "print(ages[ages >12])\n",
    "```\n",
    "outputs:  \n",
    "[12,15,17,21]\n",
    "***\n",
    "False"
   ]
  },
  {
   "cell_type": "markdown",
   "metadata": {},
   "source": [
    "Q2. In K-Means Clustering, the number k represents the number of groups your data will be categorized in.\n",
    "***\n",
    "True"
   ]
  },
  {
   "cell_type": "markdown",
   "metadata": {},
   "source": [
    "Q3. Neural networks can be compared to the way neurons fire in a brain.\n",
    "***\n",
    "False"
   ]
  },
  {
   "cell_type": "markdown",
   "metadata": {},
   "source": [
    "Q4. In deep learning with Keras, we fit the data then compile.\n",
    "***\n",
    "False"
   ]
  },
  {
   "cell_type": "markdown",
   "metadata": {},
   "source": [
    "Q5. Hyperparamters are used to fine tune a a machine learning model\n",
    "***\n",
    "True"
   ]
  },
  {
   "cell_type": "markdown",
   "metadata": {},
   "source": [
    "Q6. When handling missing data, the best method is to drop all rows with missing column values with the dropna() method of pandas.\n",
    "*** \n",
    "False"
   ]
  },
  {
   "cell_type": "markdown",
   "metadata": {},
   "source": [
    "Q7. Backpropagataion calculates gradients to optimize the weights in a nueral network.\n",
    "\n",
    "***\n",
    "True"
   ]
  },
  {
   "cell_type": "markdown",
   "metadata": {},
   "source": [
    "# Short Answer Questions"
   ]
  },
  {
   "cell_type": "markdown",
   "metadata": {},
   "source": [
    "### Question 1"
   ]
  },
  {
   "cell_type": "code",
   "execution_count": null,
   "metadata": {},
   "outputs": [],
   "source": [
    "import numpy as np\n",
    "import matplotlib.pyplot as plt\n",
    "\n",
    "np.random.seed(42)\n",
    "age = np.random.randint(15,55, size = 100)\n",
    "number_of_pets = np.random.randint(0,5, size = 100)\n",
    "\n",
    "\n",
    "gender = ['boy', 'girl']\n",
    "# randomly assign girl and boy values to labels\n",
    "labels = np.random.choice(gender, 100)\n",
    "\n",
    "# use ax when plotting and adding labels\n",
    "fig, ax = plt.subplots()\n",
    "\n",
    "\n",
    "# create a scatter plot for label girl with age on the x-axis and number_of_pets \n",
    "# in the y axis. Use color red and add a label to the plot.\n",
    "----\n",
    "\n",
    "\n",
    "# create a scatter plot for label boy with age on the x-axis and number_of_pets \n",
    "# in the y axis. Use color blue and add a label to the plot.\n",
    "----\n",
    "\n",
    "# add title 'Age versus Number of Pets'\n",
    "-----\n",
    "\n",
    "# label x-axis with age\n",
    "-----\n",
    "\n",
    "# label y-axis with number of pets\n",
    "-----\n",
    "\n",
    "# Add Legend\n",
    "-----\n"
   ]
  },
  {
   "cell_type": "markdown",
   "metadata": {},
   "source": [
    "## Answer"
   ]
  },
  {
   "cell_type": "code",
   "execution_count": 1,
   "metadata": {},
   "outputs": [
    {
     "data": {
      "image/png": "[encoded data removed]",
      "text/plain": [
       "<matplotlib.figure.Figure at 0x6f0f710>"
      ]
     },
     "metadata": {},
     "output_type": "display_data"
    }
   ],
   "source": [
    "import numpy as np\n",
    "import matplotlib.pyplot as plt\n",
    "%matplotlib inline\n",
    "\n",
    "np.random.seed(42)\n",
    "age = np.random.randint(15,55, size = 100)\n",
    "number_of_pets = np.random.randint(0,5, size = 100)\n",
    "\n",
    "\n",
    "gender = ['boy', 'girl']\n",
    "# randomly assign girl and boy values to variable: labels\n",
    "labels = np.random.choice(gender, 100)\n",
    "\n",
    "\n",
    "fig, ax = plt.subplots()\n",
    "\n",
    "\n",
    "# create a scatter plot for label girl with age on the x-axis and number_of_pets \n",
    "# in the y axis. Use color red and add a label to the plot.\n",
    "ax.scatter(age[labels == 'girl'], number_of_pets[labels == 'girl'], color = 'r', label = 'girl')\n",
    "\n",
    "# create a scatter plot for label boy with age on the x-axis and number_of_pets \n",
    "# in the y axis. Use color blue and add a label to the plot.\n",
    "ax.scatter(age[labels == 'boy'], number_of_pets[labels == 'boy'], color = 'b', label = 'boy')\n",
    "\n",
    "# add title 'Age versus Number of Pets'\n",
    "ax.set_title('Age versus Number of Pets')\n",
    "\n",
    "# label x-axis with age\n",
    "ax.set_xlabel('Age')\n",
    "\n",
    "# label y-axis with number of pets\n",
    "ax.set_ylabel('Number of Pets')\n",
    "\n",
    "# Add Legend\n",
    "ax.legend();\n",
    "\n"
   ]
  },
  {
   "cell_type": "markdown",
   "metadata": {},
   "source": [
    "### Question 2"
   ]
  },
  {
   "cell_type": "markdown",
   "metadata": {},
   "source": [
    "* The Boston Housing dataset is imported from sklearn.datasets\n",
    "* Compute the following stats for _TAX_ column of _df_ \n",
    "    * Compute the mean \n",
    "    * median \n",
    "    * Percentiles: 25th, 50th, and 75th"
   ]
  },
  {
   "cell_type": "code",
   "execution_count": null,
   "metadata": {},
   "outputs": [],
   "source": [
    "# Question 2\n",
    "from sklearn.datasets import load_boston\n",
    "import pandas as pd\n",
    "import numpy as np\n",
    "import matplotlib.pyplot as plt\n",
    "%matplotlib inline\n",
    "\n",
    "boston = load_boston()\n",
    "df = pd.DataFrame(data = np.c_[boston['data'],],\n",
    "                  columns = boston.feature_names)\n",
    "df['target'] = boston.target\n",
    "\n",
    "# print the mean of TAX column of DataFrame df\n",
    "print(\"Mean of TAX\", ----)\n",
    "\n",
    "# print the median of TAX column of DataFrame df\n",
    "print(\"Median of TAX\", ----)\n",
    "\n",
    "# print the 25th, 50th, and 75th percentile of TAX column of DataFrame df\n",
    "print(\"25th, 50th, and 75th percentiles of TAX\", ----)\n",
    "\n"
   ]
  },
  {
   "cell_type": "markdown",
   "metadata": {},
   "source": [
    "## Answer"
   ]
  },
  {
   "cell_type": "code",
   "execution_count": 3,
   "metadata": {},
   "outputs": [
    {
     "name": "stdout",
     "output_type": "stream",
     "text": [
      "('Mean of TAX', 408.2371541501976)\n",
      "('Median of TAX', 330.0)\n",
      "('25th, 50th, and 75th percentiles of TAX', array([279., 330., 666.]))\n"
     ]
    }
   ],
   "source": [
    "# Question 2\n",
    "from sklearn.datasets import load_boston\n",
    "import pandas as pd\n",
    "import numpy as np\n",
    "import matplotlib.pyplot as plt\n",
    "%matplotlib inline\n",
    "\n",
    "boston = load_boston()\n",
    "df = pd.DataFrame(data = np.c_[boston['data'],],\n",
    "                  columns = boston.feature_names)\n",
    "df['target'] = boston.target\n",
    "# print the mean of TAX column of DataFrame df\n",
    "print(\"Mean of TAX\", np.mean(df['TAX']))\n",
    "\n",
    "# print the median of TAX column of DataFrame df\n",
    "print(\"Median of TAX\", np.median(df['TAX']))\n",
    "\n",
    "# print the 25th, 50th, and 75th percentile of TAX column of DataFrame df\n",
    "print(\"25th, 50th, and 75th percentiles of TAX\", np.percentile(df['TAX'], [25,50,75]))\n"
   ]
  },
  {
   "cell_type": "markdown",
   "metadata": {},
   "source": [
    "## Question 3"
   ]
  },
  {
   "cell_type": "markdown",
   "metadata": {},
   "source": [
    "* Training a classifier with training data and then computing score with test data.\n"
   ]
  },
  {
   "cell_type": "code",
   "execution_count": null,
   "metadata": {},
   "outputs": [],
   "source": [
    "from sklearn.linear_model import LogisticRegression\n",
    "from sklearn.datasets import load_boston\n",
    "from sklearn.model_selection import train_test_split\n",
    "import pandas as pd\n",
    "import numpy as np\n",
    "\n",
    "boston = load_boston()\n",
    "df = pd.DataFrame(data = np.c_[boston['data'],],\n",
    "                  columns = boston.feature_names)\n",
    "df['target'] = boston.target\n",
    "\n",
    "y = df['target'].values\n",
    "X = df.iloc[:,:-1].values\n",
    "\n",
    "X_train, X_test, y_train, y_test = train_test_split(X,y, test_size = .30,\n",
    "                                                    random_state = 42)\n",
    "# initialize a Linear regression classifier\n",
    "----\n",
    "\n",
    "# fit the classifer using the training data\n",
    "----\n",
    "\n",
    "# print the score using the test data\n",
    "----"
   ]
  },
  {
   "cell_type": "markdown",
   "metadata": {},
   "source": [
    "## Answer"
   ]
  },
  {
   "cell_type": "code",
   "execution_count": 4,
   "metadata": {},
   "outputs": [
    {
     "name": "stdout",
     "output_type": "stream",
     "text": [
      "('classficiation score', 0.7362798585272432)\n"
     ]
    }
   ],
   "source": [
    "from sklearn.linear_model import LinearRegression\n",
    "from sklearn.datasets import load_boston\n",
    "from sklearn.model_selection import train_test_split\n",
    "import pandas as pd\n",
    "import numpy as np\n",
    "\n",
    "boston = load_boston()\n",
    "df = pd.DataFrame(data = boston['data'],\n",
    "                  columns = boston.feature_names)\n",
    "df['target'] = boston.target\n",
    "\n",
    "y = df.iloc[:,-1:]\n",
    "X = df.iloc[:,:-1]\n",
    "\n",
    "X_train, X_test, y_train, y_test = train_test_split(X,y, test_size = .30,\n",
    "                                                    random_state = 42)\n",
    "# initialize a Linear regression classifier\n",
    "clf = LinearRegression()\n",
    "\n",
    "# fit the classifer using the training data\n",
    "clf.fit(X, y)\n",
    "\n",
    "# print the score on the test data\n",
    "print(\"classficiation score\", clf.score(X_test, y_test))"
   ]
  },
  {
   "cell_type": "markdown",
   "metadata": {},
   "source": [
    "## Question 4"
   ]
  },
  {
   "cell_type": "markdown",
   "metadata": {},
   "source": [
    "* Use PCA on the Iris Dataset"
   ]
  },
  {
   "cell_type": "code",
   "execution_count": null,
   "metadata": {},
   "outputs": [],
   "source": [
    "from sklearn.decomposition import PCA\n",
    "from sklearn.datasets import load_iris\n",
    "import numpy as np\n",
    "\n",
    "iris = load_iris()\n",
    "df = pd.DataFrame(data = iris['data'],\n",
    "                  columns = iris.feature_names)\n",
    "df['target'] = iris.target\n",
    "data = df.values\n",
    "\n",
    "# plot the  3rd vs 2nd feature\n",
    "plt.scatter(df.iloc[:,3], df.iloc[:,2])\n",
    "\n",
    "# initialize a PCA model\n",
    "----\n",
    "\n",
    "# fit model to df\n",
    "----\n",
    "\n",
    "# compute mean of the housing dataset using the model\n",
    "mean = ----\n",
    "\n",
    "# compute FIRST principle component using the model \n",
    "first_pc = ----\n",
    "\n",
    "# plot first_pc as an arrow starting at the mean\n",
    "plt.arrow(mean[----],mean[----] , first_pc[----], first_pc[----], color='red', width=0.15)\n",
    "\n",
    "plt.axis('equal')\n",
    "\n",
    "plt.show()"
   ]
  },
  {
   "cell_type": "markdown",
   "metadata": {},
   "source": [
    "## Answer"
   ]
  },
  {
   "cell_type": "code",
   "execution_count": 5,
   "metadata": {},
   "outputs": [
    {
     "data": {
      "image/png": "[encoded data removed]",
      "text/plain": [
       "<matplotlib.figure.Figure at 0xca00748>"
      ]
     },
     "metadata": {},
     "output_type": "display_data"
    }
   ],
   "source": [
    "from sklearn.decomposition import PCA\n",
    "from sklearn.datasets import load_iris\n",
    "import numpy as np\n",
    "\n",
    "iris = load_iris()\n",
    "df = pd.DataFrame(data = iris['data'],\n",
    "                  columns = iris.feature_names)\n",
    "df['target'] = iris.target\n",
    "data = df.values\n",
    "\n",
    "# plot the  \n",
    "plt.scatter(df.iloc[:,3], df.iloc[:,2])\n",
    "\n",
    "# initialize a PCA model\n",
    "model = PCA()\n",
    "\n",
    "# fit model to df\n",
    "model.fit(data)\n",
    "\n",
    "# print mean of the housing dataset using the model\n",
    "mean = model.mean_\n",
    "\n",
    "# compute first principle component using the model\n",
    "first_pc = model.components_[0,:]\n",
    "\n",
    "# plot first_pc as an arrow starting at the mean\n",
    "# plt.arrow(mean[0], mean[1], first_pc[0], first_pc[1], width = 0.01)\n",
    "plt.arrow(mean[3],mean[2] , first_pc[3], first_pc[2], color='red', width=0.15)\n",
    "\n",
    "plt.axis('equal')\n",
    "\n",
    "plt.show()"
   ]
  },
  {
   "cell_type": "markdown",
   "metadata": {},
   "source": [
    "## Question 5\n",
    "* basic numpy matrix operations"
   ]
  },
  {
   "cell_type": "code",
   "execution_count": null,
   "metadata": {},
   "outputs": [],
   "source": [
    "import numpy as np\n",
    "\n",
    "mat_a = np.random.choice(15, size = (6,3))\n",
    "mat_b = np.random.choice(15, size = (3,2))\n",
    "\n",
    "# compute dot product of mat_a and mat_b and store into mat_c\n",
    "----\n",
    "\n",
    "# print shape of mat_c\n",
    "----\n",
    "\n",
    "# initialize new matrix called mat_d with shape 6,2\n",
    "----\n",
    "\n",
    "# add mat_c and mat_d store in mat_e\n",
    "----\n",
    "\n",
    "# sum all elements of mat_e into one store in mat_sum\n",
    "----\n",
    "\n"
   ]
  },
  {
   "cell_type": "code",
   "execution_count": 6,
   "metadata": {},
   "outputs": [
    {
     "name": "stdout",
     "output_type": "stream",
     "text": [
      "('shape of mat_c', (6L, 2L))\n"
     ]
    }
   ],
   "source": [
    "import numpy as np\n",
    "\n",
    "mat_a = np.random.choice(15, size = (6,3))\n",
    "mat_b = np.random.choice(15, size = (3,2))\n",
    "\n",
    "# compute dot product of mat_a and mat_b and store into mat_c\n",
    "mat_c = np.dot(mat_a,mat_b)\n",
    "\n",
    "# print shape of mat_c\n",
    "print(\"shape of mat_c\", mat_c.shape)\n",
    "\n",
    "# initialize new matrix called mat_d with shape 6,2\n",
    "mat_d = np.random.choice(15, size= (6,2))\n",
    "\n",
    "# add mat_c and mat_d store in mat_e\n",
    "mat_e = mat_d + mat_c\n",
    "\n",
    "# sum all elements of mat_e into one store in mat_sum\n",
    "mat_sum = mat_e.sum()"
   ]
  },
  {
   "cell_type": "markdown",
   "metadata": {},
   "source": [
    "# Iris problem\n",
    "* Load the Iris dataset from sklearn\n",
    "* Convert dataset into a pandas DataFrame with correct column names along with targets/label column.\n",
    "* extract the sepal length and petal width of virsicolor and virginica\n",
    "* extract the target values of versicolor and virginica\n",
    "* Split data into train/test using a test size of .30 and seed 42\n",
    "* classify using Logistic Regression classifier and penalty l1\n",
    "* print classification score on test set."
   ]
  },
  {
   "cell_type": "markdown",
   "metadata": {},
   "source": [
    "## Answer"
   ]
  },
  {
   "cell_type": "code",
   "execution_count": 7,
   "metadata": {},
   "outputs": [
    {
     "name": "stdout",
     "output_type": "stream",
     "text": [
      "0.9333333333333333\n"
     ]
    }
   ],
   "source": [
    "from sklearn.datasets import load_iris\n",
    "from sklearn.model_selection import train_test_split\n",
    "from sklearn.linear_model import LogisticRegression\n",
    "import pandas as pd\n",
    "# load iris dataset\n",
    "iris = load_iris()\n",
    "\n",
    "#convert iris dataset to pandas dataframe\n",
    "df = pd.DataFrame(data=iris.data, columns= iris.feature_names)\n",
    "df['label'] = iris.target\n",
    "\n",
    "# extract sepal length and petal width of versicolor and virginica.\n",
    "X = df[['sepal length (cm)', 'petal width (cm)']][(df['label'] == 1) | (df['label'] == 2)].values\n",
    "\n",
    "# extract the label/target of versicolor and virginica\n",
    "y = df['label'][(df['label'] == 1) | (df['label'] == 2)].values\n",
    "\n",
    "# Split data into train/test set\n",
    "X_train, X_test, y_train, y_test = train_test_split(X, y, test_size = 0.30, random_state = 42)\n",
    "\n",
    "# initialize classifier with l1 penalty\n",
    "clf = LogisticRegression(penalty ='l1')\n",
    "\n",
    "# fit the model \n",
    "clf.fit(X_train, y_train)\n",
    "\n",
    "# print score\n",
    "print(clf.score(X_test, y_test))"
   ]
  },
  {
   "cell_type": "code",
   "execution_count": null,
   "metadata": {},
   "outputs": [],
   "source": []
  }
 ],
 "metadata": {
  "kernelspec": {
   "display_name": "Python 2",
   "language": "python",
   "name": "python2"
  },
  "language_info": {
   "codemirror_mode": {
    "name": "ipython",
    "version": 2
   },
   "file_extension": ".py",
   "mimetype": "text/x-python",
   "name": "python",
   "nbconvert_exporter": "python",
   "pygments_lexer": "ipython2",
   "version": "2.7.14"
  }
 },
 "nbformat": 4,
 "nbformat_minor": 2
}
